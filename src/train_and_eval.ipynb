{
 "cells": [
  {
   "cell_type": "code",
   "execution_count": 1,
   "metadata": {},
   "outputs": [],
   "source": [
    "import os\n",
    "import argparse\n",
    "import numpy as np\n",
    "import tensorflow as tf\n",
    "from tensorflow import keras as K\n",
    "import pandas as pd\n",
    "import models\n",
    "\n",
    "import matplotlib.pyplot as plt\n",
    "\n",
    "from sklearn.utils import class_weight, shuffle\n",
    "from sklearn.model_selection import train_test_split\n",
    "from sklearn.metrics import balanced_accuracy_score, confusion_matrix, roc_curve, auc\n",
    "import itertools\n",
    "from tqdm import tqdm\n",
    "from random import sample"
   ]
  },
  {
   "cell_type": "code",
   "execution_count": 11,
   "metadata": {},
   "outputs": [],
   "source": [
    "batch_size = 1024\n",
    "epochs = 30\n",
    "model_arch = 'mlp'\n",
    "bl = 0"
   ]
  },
  {
   "cell_type": "code",
   "execution_count": 3,
   "metadata": {},
   "outputs": [],
   "source": [
    "model_dir = '../models/'\n",
    "hist_dir = '../histories/'\n",
    "plot_dir = '../plots/'\n",
    "dataset_dir = '../dataset/'\n",
    "model_name = model_arch"
   ]
  },
  {
   "cell_type": "code",
   "execution_count": 4,
   "metadata": {},
   "outputs": [],
   "source": [
    "os.makedirs(model_dir, exist_ok=True)\n",
    "os.makedirs(hist_dir, exist_ok=True)"
   ]
  },
  {
   "cell_type": "code",
   "execution_count": 5,
   "metadata": {},
   "outputs": [
    {
     "name": "stdout",
     "output_type": "stream",
     "text": [
      "['RS.h5', 'WS.h5', 'sidebands.h5']\n"
     ]
    }
   ],
   "source": [
    "# Read the datasets\n",
    "files = [f for f in os.listdir(dataset_dir) if f.endswith(\"h5\")]\n",
    "print(files)"
   ]
  },
  {
   "cell_type": "code",
   "execution_count": 6,
   "metadata": {},
   "outputs": [
    {
     "name": "stderr",
     "output_type": "stream",
     "text": [
      "\r",
      "  0%|          | 0/3 [00:00<?, ?it/s]"
     ]
    },
    {
     "name": "stdout",
     "output_type": "stream",
     "text": [
      "Reading file RS.h5\n"
     ]
    },
    {
     "name": "stderr",
     "output_type": "stream",
     "text": [
      "\r",
      " 33%|███▎      | 1/3 [00:00<00:00,  2.09it/s]"
     ]
    },
    {
     "name": "stdout",
     "output_type": "stream",
     "text": [
      "Reading file WS.h5\n"
     ]
    },
    {
     "name": "stderr",
     "output_type": "stream",
     "text": [
      "\r",
      " 67%|██████▋   | 2/3 [00:00<00:00,  2.07it/s]"
     ]
    },
    {
     "name": "stdout",
     "output_type": "stream",
     "text": [
      "Reading file sidebands.h5\n"
     ]
    },
    {
     "name": "stderr",
     "output_type": "stream",
     "text": [
      "100%|██████████| 3/3 [00:01<00:00,  1.74it/s]\n"
     ]
    }
   ],
   "source": [
    "input_data = []\n",
    "labels = []\n",
    "for name in tqdm(files):\n",
    "    print(\"Reading file\", name)\n",
    "    pions1 = pd.read_hdf(dataset_dir + name, 'pion1').values\n",
    "    pions2 = pd.read_hdf(dataset_dir + name, 'pion2').values\n",
    "    addinfo = pd.read_hdf(dataset_dir + name, 'add_info').values\n",
    "\n",
    "    file_inputs = np.concatenate([np.reshape(addinfo[:,1], (-1,1)), pions1, pions2], axis=1)\n",
    "    input_data.append(file_inputs)\n",
    "    labels.append(addinfo[:,2])"
   ]
  },
  {
   "cell_type": "code",
   "execution_count": 7,
   "metadata": {},
   "outputs": [],
   "source": [
    "if(bl==1):\n",
    "    model_name = model_name + '_bldata'\n",
    "    balanced_samples = 0\n",
    "    for label_array in labels:\n",
    "        classes, counts = np.unique(label_array, return_counts=True)\n",
    "        if(len(classes)==2):\n",
    "            balanced_samples = np.min(counts)\n",
    "\n",
    "    balanced_input_data = []\n",
    "    balanced_labels = []\n",
    "    for i in range(len(labels)):\n",
    "        classes = np.unique(labels[i])\n",
    "        if(len(classes)==2):\n",
    "            balanced_input_data.append(input_data[i][:int(balanced_samples+(balanced_samples/3))])\n",
    "            balanced_labels.append(labels[i][:int(balanced_samples+(balanced_samples/3))])\n",
    "        else:\n",
    "            samp = sample(range(len(labels[i])), int(balanced_samples/3))\n",
    "            temp_samples = [input_data[i][k] for k in samp]\n",
    "            temp_labels = [labels[i][k] for k in samp]\n",
    "            balanced_input_data.append(temp_samples)\n",
    "            balanced_labels.append(temp_labels)    \n",
    "    \n",
    "    input_data = balanced_input_data\n",
    "    labels = balanced_labels"
   ]
  },
  {
   "cell_type": "code",
   "execution_count": 8,
   "metadata": {},
   "outputs": [],
   "source": [
    "# Now create input/output\n",
    "input_array = np.array([item for sublist in input_data for item in sublist])\n",
    "output_array = np.array([item for sublist in labels for item in sublist])\n",
    "\n",
    "num_features = int((input_array.shape[1]-1)/2)"
   ]
  },
  {
   "cell_type": "code",
   "execution_count": 9,
   "metadata": {},
   "outputs": [
    {
     "name": "stdout",
     "output_type": "stream",
     "text": [
      "****************\n",
      "TOTAL SAMPLES:  947169\n",
      "[0. 1.] [940577   6592]\n",
      "TRAIN SAMPLES :  [0. 0. 0. ... 0. 0. 0.]\n",
      "[0. 1.] [752442   5293]\n",
      "TEST SAMPLES :  [0. 0. 0. ... 0. 0. 0.]\n",
      "[0. 1.] [188135   1299]\n",
      "****************\n"
     ]
    }
   ],
   "source": [
    "input_array, output_array = shuffle(input_array, output_array)\n",
    "\n",
    "print('****************')\n",
    "print('TOTAL SAMPLES: ', len(output_array))\n",
    "classes, counts = np.unique(output_array, return_counts=True)\n",
    "print(classes, counts)\n",
    "\n",
    "# Split the dataset in train and test\n",
    "x_train, x_test, y_train, y_test = train_test_split(input_array, output_array, test_size=0.2)\n",
    "\n",
    "print('TRAIN SAMPLES : ', y_train)\n",
    "classes, counts = np.unique(y_train, return_counts=True)\n",
    "print(classes, counts)\n",
    "\n",
    "print('TEST SAMPLES : ', y_test)\n",
    "classes, counts = np.unique(y_test, return_counts=True)\n",
    "print(classes, counts)\n",
    "print('****************')"
   ]
  },
  {
   "cell_type": "code",
   "execution_count": 12,
   "metadata": {},
   "outputs": [
    {
     "name": "stdout",
     "output_type": "stream",
     "text": [
      "Model: \"MLP\"\n",
      "__________________________________________________________________________________________________\n",
      "Layer (type)                    Output Shape         Param #     Connected to                     \n",
      "==================================================================================================\n",
      "input_11 (InputLayer)           [(None, 12)]         0                                            \n",
      "__________________________________________________________________________________________________\n",
      "input_12 (InputLayer)           [(None, 12)]         0                                            \n",
      "__________________________________________________________________________________________________\n",
      "concatenate (Concatenate)       (None, 24)           0           input_11[0][0]                   \n",
      "                                                                 input_12[0][0]                   \n",
      "__________________________________________________________________________________________________\n",
      "batch_normalization (BatchNorma (None, 24)           96          concatenate[0][0]                \n",
      "__________________________________________________________________________________________________\n",
      "dense1 (Dense)                  (None, 64)           1600        batch_normalization[0][0]        \n",
      "__________________________________________________________________________________________________\n",
      "input_2 (InputLayer)            [(None, 1)]          0                                            \n",
      "__________________________________________________________________________________________________\n",
      "dense2 (Dense)                  (None, 128)          8320        dense1[0][0]                     \n",
      "__________________________________________________________________________________________________\n",
      "concatenate_1 (Concatenate)     (None, 129)          0           input_2[0][0]                    \n",
      "                                                                 dense2[0][0]                     \n",
      "__________________________________________________________________________________________________\n",
      "batch_normalization_1 (BatchNor (None, 129)          516         concatenate_1[0][0]              \n",
      "__________________________________________________________________________________________________\n",
      "dense4 (Dense)                  (None, 64)           8320        batch_normalization_1[0][0]      \n",
      "__________________________________________________________________________________________________\n",
      "dense5 (Dense)                  (None, 8)            520         dense4[0][0]                     \n",
      "__________________________________________________________________________________________________\n",
      "output (Dense)                  (None, 1)            9           dense5[0][0]                     \n",
      "==================================================================================================\n",
      "Total params: 19,381\n",
      "Trainable params: 19,075\n",
      "Non-trainable params: 306\n",
      "__________________________________________________________________________________________________\n"
     ]
    }
   ],
   "source": [
    "model = getattr(models, model_arch)(num_features)\n",
    "model.summary()"
   ]
  },
  {
   "cell_type": "code",
   "execution_count": 13,
   "metadata": {},
   "outputs": [
    {
     "name": "stderr",
     "output_type": "stream",
     "text": [
      "/lustrehome/slezki/.local/share/anaconda3/envs/pienv/lib/python3.7/site-packages/sklearn/utils/validation.py:71: FutureWarning: Pass classes=[0. 1.], y=[0. 0. 0. ... 0. 0. 0.] as keyword args. From version 0.25 passing these as positional arguments will result in an error\n",
      "  FutureWarning)\n"
     ]
    },
    {
     "name": "stdout",
     "output_type": "stream",
     "text": [
      "Epoch 1/30\n",
      "666/666 [==============================] - 6s 9ms/step - loss: 0.6148 - accuracy: 0.5800 - val_loss: 0.5959 - val_accuracy: 0.6868\n",
      "Epoch 2/30\n",
      "666/666 [==============================] - 6s 9ms/step - loss: 0.4390 - accuracy: 0.7452 - val_loss: 0.4578 - val_accuracy: 0.7853\n",
      "Epoch 3/30\n",
      "666/666 [==============================] - 6s 9ms/step - loss: 0.2953 - accuracy: 0.8137 - val_loss: 0.3261 - val_accuracy: 0.8648\n",
      "Epoch 4/30\n",
      "666/666 [==============================] - 6s 9ms/step - loss: 0.1720 - accuracy: 0.9572 - val_loss: 0.1908 - val_accuracy: 0.9487\n",
      "Epoch 5/30\n",
      "666/666 [==============================] - 6s 9ms/step - loss: 0.1241 - accuracy: 0.9814 - val_loss: 0.0976 - val_accuracy: 0.9932\n",
      "Epoch 6/30\n",
      "666/666 [==============================] - 6s 9ms/step - loss: 0.1056 - accuracy: 0.9858 - val_loss: 0.0984 - val_accuracy: 0.9863\n",
      "Epoch 7/30\n",
      "666/666 [==============================] - 6s 9ms/step - loss: 0.0944 - accuracy: 0.9871 - val_loss: 0.0847 - val_accuracy: 0.9912\n",
      "Epoch 8/30\n",
      "666/666 [==============================] - 6s 8ms/step - loss: 0.0836 - accuracy: 0.9898 - val_loss: 0.0686 - val_accuracy: 0.9962\n",
      "Epoch 9/30\n",
      "666/666 [==============================] - 6s 8ms/step - loss: 0.0826 - accuracy: 0.9899 - val_loss: 0.0675 - val_accuracy: 0.9942\n",
      "Epoch 10/30\n",
      "666/666 [==============================] - 6s 8ms/step - loss: 0.0777 - accuracy: 0.9897 - val_loss: 0.0609 - val_accuracy: 0.9970\n",
      "Epoch 11/30\n",
      "666/666 [==============================] - 6s 9ms/step - loss: 0.0731 - accuracy: 0.9910 - val_loss: 0.0610 - val_accuracy: 0.9954\n",
      "Epoch 12/30\n",
      "666/666 [==============================] - 6s 9ms/step - loss: 0.0740 - accuracy: 0.9898 - val_loss: 0.0529 - val_accuracy: 0.9975\n",
      "Epoch 13/30\n",
      "666/666 [==============================] - 6s 8ms/step - loss: 0.0720 - accuracy: 0.9900 - val_loss: 0.1252 - val_accuracy: 0.9632\n",
      "Epoch 14/30\n",
      "666/666 [==============================] - 6s 9ms/step - loss: 0.0678 - accuracy: 0.9909 - val_loss: 0.0494 - val_accuracy: 0.9976\n",
      "Epoch 15/30\n",
      "666/666 [==============================] - 6s 8ms/step - loss: 0.0689 - accuracy: 0.9899 - val_loss: 0.0634 - val_accuracy: 0.9947\n",
      "Epoch 16/30\n",
      "666/666 [==============================] - 6s 8ms/step - loss: 0.0651 - accuracy: 0.9910 - val_loss: 0.0614 - val_accuracy: 0.9937\n",
      "Epoch 17/30\n",
      "666/666 [==============================] - 6s 9ms/step - loss: 0.0631 - accuracy: 0.9920 - val_loss: 0.0426 - val_accuracy: 0.9983\n",
      "Epoch 18/30\n",
      "666/666 [==============================] - 6s 8ms/step - loss: 0.0646 - accuracy: 0.9910 - val_loss: 0.0426 - val_accuracy: 0.9985\n",
      "Epoch 19/30\n",
      "666/666 [==============================] - 6s 8ms/step - loss: 0.0651 - accuracy: 0.9909 - val_loss: 0.2814 - val_accuracy: 0.9235\n",
      "Epoch 20/30\n",
      "666/666 [==============================] - 5s 8ms/step - loss: 0.0625 - accuracy: 0.9915 - val_loss: 0.0447 - val_accuracy: 0.9981\n",
      "Epoch 21/30\n",
      "666/666 [==============================] - 6s 8ms/step - loss: 0.0611 - accuracy: 0.9918 - val_loss: 0.0948 - val_accuracy: 0.9709\n",
      "Epoch 22/30\n",
      "666/666 [==============================] - 6s 8ms/step - loss: 0.0603 - accuracy: 0.9918 - val_loss: 0.0588 - val_accuracy: 0.9916\n",
      "Epoch 23/30\n",
      "666/666 [==============================] - 6s 8ms/step - loss: 0.0611 - accuracy: 0.9918 - val_loss: 0.0443 - val_accuracy: 0.9930\n",
      "Epoch 24/30\n",
      "666/666 [==============================] - 6s 8ms/step - loss: 0.0625 - accuracy: 0.9910 - val_loss: 0.0383 - val_accuracy: 0.9962\n",
      "Epoch 25/30\n",
      "666/666 [==============================] - 6s 8ms/step - loss: 0.0604 - accuracy: 0.9914 - val_loss: 0.0473 - val_accuracy: 0.9968\n",
      "Epoch 26/30\n",
      "666/666 [==============================] - 5s 8ms/step - loss: 0.0594 - accuracy: 0.9921 - val_loss: 0.0470 - val_accuracy: 0.9973\n",
      "Epoch 27/30\n",
      "666/666 [==============================] - 5s 8ms/step - loss: 0.0590 - accuracy: 0.9916 - val_loss: 0.1184 - val_accuracy: 0.9639\n",
      "Epoch 28/30\n",
      "666/666 [==============================] - 5s 8ms/step - loss: 0.0598 - accuracy: 0.9914 - val_loss: 0.1810 - val_accuracy: 0.9362\n",
      "Epoch 29/30\n",
      "666/666 [==============================] - 5s 8ms/step - loss: 0.0592 - accuracy: 0.9913 - val_loss: 0.2512 - val_accuracy: 0.9338\n",
      "Epoch 30/30\n",
      "666/666 [==============================] - 5s 8ms/step - loss: 0.0572 - accuracy: 0.9922 - val_loss: 0.0391 - val_accuracy: 0.9983\n"
     ]
    }
   ],
   "source": [
    "if(bl==0):\n",
    "    weights = class_weight.compute_class_weight('balanced', np.unique(y_train), y_train)    \n",
    "    history = model.fit([x_train[:,1:num_features+1], x_train[:,num_features+1:], x_train[:,0]], y_train, batch_size=batch_size, epochs=epochs, class_weight=dict(enumerate(weights)), validation_split=0.1, callbacks=[K.callbacks.EarlyStopping(monitor='val_loss', patience=10, verbose=1, restore_best_weights=True)], shuffle=True, verbose=1)\n",
    "else:\n",
    "    history = model.fit([x_train[:,1:num_features+1], x_train[:,num_features+1:], x_train[:,0]], y_train, batch_size=batch_size, epochs=epochs, validation_split=0.1, callbacks=[K.callbacks.EarlyStopping(monitor='val_loss', patience=10, verbose=1, restore_best_weights=True)], shuffle=True, verbose=1)"
   ]
  },
  {
   "cell_type": "code",
   "execution_count": 14,
   "metadata": {},
   "outputs": [],
   "source": [
    "# Save the history for accuracy/loss plots\n",
    "history_df = pd.DataFrame(history.history)\n",
    "history_df.to_hdf(hist_dir + model_name + '_history.h5', \"history\", append=False)\n",
    "\n",
    "plot_dir = plot_dir + model_name +'/'\n",
    "os.makedirs(plot_dir, exist_ok=True)\n",
    "\n",
    "# Save model and weights\n",
    "model.save(model_dir + model_name + '.h5')"
   ]
  },
  {
   "cell_type": "code",
   "execution_count": 15,
   "metadata": {},
   "outputs": [],
   "source": [
    "# Now evaluate the model performance\n",
    "results = model.predict([x_test[:,1:num_features+1], x_test[:,num_features+1:], x_test[:,0]])\n",
    "results = np.reshape(results, -1)"
   ]
  },
  {
   "cell_type": "code",
   "execution_count": 18,
   "metadata": {},
   "outputs": [
    {
     "name": "stdout",
     "output_type": "stream",
     "text": [
      "Precision: 0.798256516456604\n",
      "Recall: 0.9869130253791809\n",
      "F1: 0.8826161425213153\n",
      "Accuracy: 0.9981998801231384\n",
      "BalancedAccuracy: 0.9925954212076389\n"
     ]
    }
   ],
   "source": [
    "# Define metrics calculate values\n",
    "precision = K.metrics.Precision()\n",
    "recall = K.metrics.Recall()\n",
    "accuracy = K.metrics.Accuracy()\n",
    "\n",
    "precision.update_state(y_test, results)\n",
    "recall.update_state(y_test, results)\n",
    "accuracy.update_state(y_test, np.rint(results))\n",
    "\n",
    "precision_value = precision.result().numpy()\n",
    "recall_value = recall.result().numpy()\n",
    "f1_value = (2 * precision_value * recall_value)/(precision_value + recall_value)\n",
    "accuracy_value = accuracy.result().numpy()\n",
    "balanced_accuracy = balanced_accuracy_score(y_test, np.rint(results))\n",
    "\n",
    "score_names = ['Precision', 'Recall', 'F1', 'Accuracy', 'BalancedAccuracy']\n",
    "scores = [precision_value, recall_value, f1_value, accuracy_value, balanced_accuracy]\n",
    "\n",
    "print('Precision: {}'.format(precision_value))\n",
    "print('Recall: {}'.format(recall_value))\n",
    "print('F1: {}'.format(f1_value))\n",
    "print('Accuracy: {}'.format(accuracy_value))\n",
    "print('BalancedAccuracy: {}'.format(balanced_accuracy))"
   ]
  },
  {
   "cell_type": "code",
   "execution_count": 19,
   "metadata": {},
   "outputs": [
    {
     "data": {
      "image/png": "[encoded data removed]",
      "text/plain": [
       "<Figure size 432x288 with 1 Axes>"
      ]
     },
     "metadata": {
      "needs_background": "light"
     },
     "output_type": "display_data"
    }
   ],
   "source": [
    "# Plot the scores\n",
    "percentages = ['{:.2f}'.format(k*100) for k in scores]\n",
    "\n",
    "fig = plt.figure()\n",
    "y_pos = np.arange(len(score_names))\n",
    "plt.barh(y_pos, scores, height= 0.5, align='center', color='indigo')\n",
    "for i in range(len(scores)):\n",
    "    plt.text(0.03, y_pos[i]+0.03, percentages[i]+'%', color='white', weight='bold', fontsize=8)\n",
    "\n",
    "plt.xlim(0, 1)\n",
    "plt.yticks(y_pos, score_names)\n",
    "plt.gca().invert_yaxis()\n",
    "plt.xlabel('Value')\n",
    "plt.title(model_name + ' - scores')\n",
    "plt.tight_layout()\n",
    "plt.savefig(plot_dir + 'scores.png', format='png')\n",
    "plt.show()"
   ]
  },
  {
   "cell_type": "code",
   "execution_count": 20,
   "metadata": {},
   "outputs": [
    {
     "data": {
      "image/png": "[encoded data removed]",
      "text/plain": [
       "<Figure size 432x288 with 1 Axes>"
      ]
     },
     "metadata": {
      "needs_background": "light"
     },
     "output_type": "display_data"
    }
   ],
   "source": [
    "# Plot the loss function\n",
    "plt.figure()\n",
    "epochs = np.arange(1, len(history_df)+1)\n",
    "\n",
    "train_loss = history_df['loss']\n",
    "val_loss = history_df['val_loss']\n",
    "\n",
    "plt.plot(epochs, train_loss, '-', color='royalblue', label='Training')\n",
    "plt.plot(epochs, val_loss, '-', color='orangered', label='Validation')\n",
    "ax = plt.gca()\n",
    "ax.tick_params(axis = 'x', which = 'major', labelsize = 13)\n",
    "ax.tick_params(axis = 'y', which = 'major', labelsize = 13)\n",
    "plt.title(model_name + ' - loss function', y=1.04, fontsize=14)\n",
    "plt.grid(linestyle=':')\n",
    "plt.xlim(left=0)\n",
    "plt.ylim(bottom=0)\n",
    "plt.xlabel('Epoch', labelpad=8, fontsize=14)\n",
    "plt.ylabel('Loss', labelpad=10, fontsize=14)\n",
    "plt.legend(loc='upper right')\n",
    "plt.tight_layout()\n",
    "plt.savefig(plot_dir + 'train_loss.png', format='png')\n",
    "plt.show()"
   ]
  },
  {
   "cell_type": "code",
   "execution_count": 21,
   "metadata": {},
   "outputs": [
    {
     "data": {
      "image/png": "[encoded data removed]",
      "text/plain": [
       "<Figure size 432x288 with 1 Axes>"
      ]
     },
     "metadata": {
      "needs_background": "light"
     },
     "output_type": "display_data"
    }
   ],
   "source": [
    "# Plot accuracy\n",
    "plt.figure()\n",
    "epochs = np.arange(1, len(history_df)+1)\n",
    "\n",
    "train_acc = history_df['accuracy']\n",
    "val_acc = history_df['val_accuracy']\n",
    "\n",
    "plt.plot(epochs, train_acc, '-', color='royalblue', label='Training')\n",
    "plt.plot(epochs, val_acc, '-', color='orangered', label='Validation')\n",
    "ax = plt.gca()\n",
    "ax.tick_params(axis = 'x', which = 'major', labelsize = 13)\n",
    "ax.tick_params(axis = 'y', which = 'major', labelsize = 13)\n",
    "plt.title(model_name + ' - accuracy', y=1.04, fontsize=14)\n",
    "plt.grid(linestyle=':')\n",
    "plt.xlim(left=0)\n",
    "plt.ylim(top=1, bottom=0)\n",
    "plt.xlabel('Epoch', labelpad=8, fontsize=14)\n",
    "plt.ylabel('Accuracy', labelpad=10, fontsize=14)\n",
    "plt.legend(loc='lower right')\n",
    "plt.tight_layout()\n",
    "plt.savefig(plot_dir + 'accuracy.png', format='png')\n",
    "plt.show()"
   ]
  },
  {
   "cell_type": "code",
   "execution_count": 22,
   "metadata": {},
   "outputs": [],
   "source": [
    "# Define and compute the confusion matrix\n",
    "def plot_confusion_matrix(cm, classes, title=model_name + ' - confusion matrix', cmap=plt.cm.YlGnBu):\n",
    "    \n",
    "    print(cm)\n",
    "\n",
    "    plt.imshow(cm, interpolation='nearest', cmap=cmap)\n",
    "    plt.title(title, fontsize=13, y=1.04)\n",
    "    plt.colorbar()\n",
    "    tick_marks = np.arange(len(classes))\n",
    "    plt.xticks(tick_marks, classes, fontsize=12)\n",
    "    plt.yticks(tick_marks, classes, fontsize=12)\n",
    "\n",
    "    fmt = '.2f'\n",
    "    thresh = cm.max() / 2.\n",
    "    for i, j in itertools.product(range(cm.shape[0]), range(cm.shape[1])):\n",
    "        plt.text(j, i, format(cm[i, j], fmt), horizontalalignment=\"center\", color=\"white\" if cm[i, j] > thresh else \"black\", fontsize=14)\n",
    "\n",
    "    plt.ylabel('True class', labelpad=10, fontsize=13)\n",
    "    plt.xlabel('Predicted class', labelpad=10, fontsize=13)\n",
    "    plt.tight_layout()"
   ]
  },
  {
   "cell_type": "code",
   "execution_count": 23,
   "metadata": {},
   "outputs": [
    {
     "name": "stdout",
     "output_type": "stream",
     "text": [
      "[[1.   0.  ]\n",
      " [0.01 0.99]]\n"
     ]
    },
    {
     "data": {
      "image/png": "[encoded data removed]",
      "text/plain": [
       "<Figure size 432x288 with 2 Axes>"
      ]
     },
     "metadata": {
      "needs_background": "light"
     },
     "output_type": "display_data"
    }
   ],
   "source": [
    "class_names = ['Fake', 'True']\n",
    "cnf_matrix = confusion_matrix(y_test, np.rint(results), normalize='true')\n",
    "np.set_printoptions(precision=2)\n",
    "\n",
    "# Plot normalized confusion matrix\n",
    "plt.figure()\n",
    "plot_confusion_matrix(cnf_matrix, classes=class_names, title= model_name + ' - confusion matrix')\n",
    "plt.savefig(plot_dir + 'confusion_matrix.png', format='png')\n",
    "plt.show()"
   ]
  },
  {
   "cell_type": "code",
   "execution_count": 24,
   "metadata": {},
   "outputs": [
    {
     "data": {
      "image/png": "[encoded data removed]",
      "text/plain": [
       "<Figure size 432x288 with 1 Axes>"
      ]
     },
     "metadata": {
      "needs_background": "light"
     },
     "output_type": "display_data"
    }
   ],
   "source": [
    "# Plot the roc curve\n",
    "plt.figure()\n",
    "fpr, tpr, _ = roc_curve(y_test, results)\n",
    "roc_auc = auc(fpr, tpr)\n",
    "\n",
    "plt.plot(fpr, tpr, color='darkorange', lw=2, label='AUC = %0.3f' % roc_auc)\n",
    "#plt.xlim([0.0, 1.0])\n",
    "plt.ylim([0.0, 1.05])\n",
    "plt.xscale('log')\n",
    "plt.xlabel('False Positive Rate')\n",
    "plt.ylabel('True Positive Rate')\n",
    "plt.title(model_name + ' - roc curve')\n",
    "plt.grid(ls=':')\n",
    "plt.legend(loc=\"lower right\")\n",
    "plt.savefig(plot_dir + 'roc_curve.png', format='png')\n",
    "plt.show()"
   ]
  },
  {
   "cell_type": "code",
   "execution_count": null,
   "metadata": {},
   "outputs": [],
   "source": []
  }
 ],
 "metadata": {
  "kernelspec": {
   "display_name": "Python 3",
   "language": "python",
   "name": "python3"
  },
  "language_info": {
   "codemirror_mode": {
    "name": "ipython",
    "version": 3
   },
   "file_extension": ".py",
   "mimetype": "text/x-python",
   "name": "python",
   "nbconvert_exporter": "python",
   "pygments_lexer": "ipython3",
   "version": "3.7.7"
  }
 },
 "nbformat": 4,
 "nbformat_minor": 4
}
