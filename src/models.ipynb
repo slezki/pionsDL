{
 "cells": [
  {
   "cell_type": "code",
   "execution_count": 1,
   "metadata": {},
   "outputs": [],
   "source": [
    "from tensorflow import keras as K"
   ]
  },
  {
   "cell_type": "code",
   "execution_count": 2,
   "metadata": {},
   "outputs": [],
   "source": [
    "def mlp(input_shape):\n",
    "    \n",
    "    input_11 = K.Input(shape=(input_shape), name='input_11')\n",
    "    input_12 = K.Input(shape=(input_shape), name='input_12')\n",
    "    input_2 = K.Input(shape=(1,), name='input_2')\n",
    "\n",
    "    conc = K.layers.Concatenate()([input_11, input_12])    \n",
    "    bnorm = K.layers.BatchNormalization()(conc)\n",
    "\n",
    "    dense = K.layers.Dense(64, activation='sigmoid', name='dense1', kernel_initializer='he_normal', kernel_regularizer=K.regularizers.l2(1e-4))(bnorm)\n",
    "    dense = K.layers.Dense(128, activation='sigmoid', name='dense2', kernel_initializer='he_normal', kernel_regularizer=K.regularizers.l2(1e-4))(dense)\n",
    "    # dense = K.layers.Dense(256, activation='sigmoid', name='dense3', kernel_initializer='he_normal', kernel_regularizer=K.regularizers.l2(1e-4))(dense)\n",
    "\n",
    "    conc = K.layers.Concatenate()([input_2,dense])\n",
    "    bnorm = K.layers.BatchNormalization()(conc)\n",
    "\n",
    "    dense = K.layers.Dense(64, activation='sigmoid', name='dense4', kernel_initializer='he_normal', kernel_regularizer=K.regularizers.l2(1e-4))(bnorm)\n",
    "    dense = K.layers.Dense(8, activation='sigmoid', name='dense5', kernel_initializer='he_normal', kernel_regularizer=K.regularizers.l2(1e-4))(dense)\n",
    "    output_layer = K.layers.Dense(1, activation='sigmoid', name='output', kernel_initializer='he_normal', kernel_regularizer=K.regularizers.l2(1e-4))(dense)\n",
    "\n",
    "    model = K.Model(inputs=[input_11, input_12,input_2], outputs=output_layer, name='MLP')\n",
    "    model.compile(optimizer=K.optimizers.Adam(), loss = 'binary_crossentropy', metrics = ['accuracy'])    \n",
    "  \n",
    "    return model"
   ]
  },
  {
   "cell_type": "code",
   "execution_count": 3,
   "metadata": {},
   "outputs": [],
   "source": [
    "def mlpV2(input_shape):\n",
    "    \n",
    "    input_11 = K.Input(shape=(input_shape), name='input_11')\n",
    "    input_12 = K.Input(shape=(input_shape), name='input_12')\n",
    "    input_2 = K.Input(shape=(1,), name='input_2')\n",
    "\n",
    "    dense1 = K.layers.Dense(64, activation='sigmoid', name='dense1', kernel_initializer='he_normal', kernel_regularizer=K.regularizers.l2(1e-4))\n",
    "    dense2 = K.layers.Dense(128, activation='sigmoid', name='dense2', kernel_initializer='he_normal', kernel_regularizer=K.regularizers.l2(1e-4))\n",
    "    # dense3 = K.layers.Dense(256, activation='sigmoid', name='dense3', kernel_initializer='he_normal', kernel_regularizer=K.regularizers.l2(1e-4))\n",
    "\n",
    "    dense_11 = dense1(input_11)\n",
    "    dense_21 = dense2(dense_11)\n",
    "    # dense_31 = dense3(dense_21)\n",
    "\n",
    "    dense_12 = dense1(input_12)\n",
    "    dense_22 = dense2(dense_12)\n",
    "    # dense_32 = dense3(dense_22)\n",
    "\n",
    "    conc = K.layers.Concatenate()([input_2,dense_21,dense_22])\n",
    "    bnorm = K.layers.BatchNormalization()(conc)\n",
    "\n",
    "    dense = K.layers.Dense(64, activation='sigmoid', name='dense4', kernel_initializer='he_normal', kernel_regularizer=K.regularizers.l2(1e-4))(conc) #(bnorm)\n",
    "    dense = K.layers.Dense(8, activation='sigmoid', name='dense5', kernel_initializer='he_normal', kernel_regularizer=K.regularizers.l2(1e-4))(conc) #(bnorm)\n",
    "    output_layer = K.layers.Dense(1, activation='sigmoid', name='output', kernel_initializer='he_normal', kernel_regularizer=K.regularizers.l2(1e-4))(dense)\n",
    "\n",
    "    model = K.Model(inputs=[input_11, input_12,input_2], outputs=output_layer, name='MLPV2')\n",
    "    model.compile(optimizer=K.optimizers.Adam(), loss = 'binary_crossentropy', metrics = ['accuracy'])    \n",
    "  \n",
    "    return model"
   ]
  },
  {
   "cell_type": "code",
   "execution_count": null,
   "metadata": {},
   "outputs": [],
   "source": []
  }
 ],
 "metadata": {
  "kernelspec": {
   "display_name": "Python 3",
   "language": "python",
   "name": "python3"
  },
  "language_info": {
   "codemirror_mode": {
    "name": "ipython",
    "version": 3
   },
   "file_extension": ".py",
   "mimetype": "text/x-python",
   "name": "python",
   "nbconvert_exporter": "python",
   "pygments_lexer": "ipython3",
   "version": "3.7.7"
  }
 },
 "nbformat": 4,
 "nbformat_minor": 4
}
